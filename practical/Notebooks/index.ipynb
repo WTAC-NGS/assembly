{
 "cells": [
  {
   "cell_type": "markdown",
   "metadata": {},
   "source": [
    "# Genome Assembly\n",
    "\n",
    "## Introduction\n",
    "Genome assembly is the process of taking a large number of fragments of DNA (sequencing reads) and putting them back together to create a representation of the original DNA sequence from which they originated.\n",
    "\n",
    "Many genomes contain large numbers of repeat sequences. Often these repeats are thousands of nucleotides long, and some occur in many different locations in the genome. This makes genome assembly a very difficult computational problem to solve. However, there are many genome assembly tools that exist that can produce long contiguous sequences (contigs) from sequencing reads. The assembly tools that you choose is determined by different factors, largely this is the length of the sequencing reads and the sequencing technology used to produce the reads.\n",
    "\n",
    "In this practical we will assemble one chromosome of a malaria parasite: Plasmodium falciparum, the IT clone. We have sequenced the genome with both PacBio and Illumina and pre-filtered the reads to select only those reads from a single chromosome.\n",
    "\n",
    "## Learning outcomes\n",
    "On completion of the tutorial, you can expect to be able to:\n",
    "\n",
    "* Describe the different approaches to genome assembly\n",
    "* Generate a genome assembly from illumina data\n",
    "* Generate a genome assembly from PacBio data\n",
    "* Generate statistics to evaluate the quality of a genome assembly \n",
    "\n",
    "## Tutorial sections\n",
    "This tutorial comprises the following sections:   \n",
    " 1. [PacBio genome assembly](pacbio_assembly.ipynb)   \n",
    " 2. [Assembly algorithms](assembly_algorithms.ipynb)   \n",
    " 3. [Illumina genome assembly](illumina_assembly.ipynb) \n",
    " 4. [Genome assembly estimation](assembly_estimation.ipynb)   \n",
    " 5. [PacBio genome assembly again](pacbio_assembly_again.ipynb) \n",
    "\n",
    "## Authors\n",
    "This tutorial was written by [Jacqui Keane](https://github.com/jacquikeane) based on material from [Shane McCarthy](https://github.com/mcshane) and Thomas Otto.\n",
    "\n",
    "## Running the commands from this tutorial\n",
    "You can follow this tutorial by typing all the commands you see into a terminal window. This is similar to the \"Command Prompt\" window on MS Windows systems, which allows the user to type DOS commands to manage files.\n",
    "\n",
    "To get started, open a new terminal window and type the command below:"
   ]
  },
  {
   "cell_type": "code",
   "execution_count": 1,
   "metadata": {},
   "outputs": [],
   "source": [
    "cd ~/course_data/assembly/data"
   ]
  },
  {
   "cell_type": "markdown",
   "metadata": {},
   "source": [
    "## Let’s get started!\n",
    "This tutorial requires that you have canu, jellyfish, velvet, assembly-stats and wtdbg installed on your computer. These are already installed on the virtual machine you are using. To check that these are installed, run the following commands:"
   ]
  },
  {
   "cell_type": "code",
   "execution_count": null,
   "metadata": {},
   "outputs": [],
   "source": [
    "canu"
   ]
  },
  {
   "cell_type": "code",
   "execution_count": null,
   "metadata": {},
   "outputs": [],
   "source": [
    "jellyfish"
   ]
  },
  {
   "cell_type": "code",
   "execution_count": 2,
   "metadata": {},
   "outputs": [
    {
     "ename": "",
     "evalue": "1",
     "output_type": "error",
     "traceback": []
    }
   ],
   "source": [
    "velvetg"
   ]
  },
  {
   "cell_type": "code",
   "execution_count": null,
   "metadata": {},
   "outputs": [],
   "source": [
    "velveth"
   ]
  },
  {
   "cell_type": "code",
   "execution_count": null,
   "metadata": {},
   "outputs": [],
   "source": [
    "assembly-stats"
   ]
  },
  {
   "cell_type": "code",
   "execution_count": null,
   "metadata": {},
   "outputs": [],
   "source": [
    "wtdbg2"
   ]
  },
  {
   "cell_type": "markdown",
   "metadata": {},
   "source": [
    "This should return the help message for software canu, jellyfish, velvet, assembly-stats and wtdbg2 respectively.\n",
    "\n",
    "If after this course you would like to download and install this software the instructions can be found at the links below, alternatively we recommend [bioconda](https://bioconda.github.io/) for the installation and management of your bioinformatics software.\n",
    "\n",
    "* The [canu](https://canu.readthedocs.io/en/latest/) website\n",
    "* The [jellyfish](https://github.com/gmarcais/Jellyfish) github page\n",
    "* The [velvet](https://www.ebi.ac.uk/~zerbino/velvet/) wesite\n",
    "* The [wtdbg2](https://github.com/ruanjue/wtdbg2) github page\n",
    "\n",
    "To get started with the tutorial, go to the first section: [Pacbio genome assembly](pacbio_assembly.ipynb)"
   ]
  }
 ],
 "metadata": {
  "kernelspec": {
   "display_name": "Bash",
   "language": "bash",
   "name": "bash"
  },
  "language_info": {
   "codemirror_mode": "shell",
   "file_extension": ".sh",
   "mimetype": "text/x-sh",
   "name": "bash"
  }
 },
 "nbformat": 4,
 "nbformat_minor": 2
}
