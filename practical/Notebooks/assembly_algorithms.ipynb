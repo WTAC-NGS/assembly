{
 "cells": [
  {
   "cell_type": "markdown",
   "metadata": {},
   "source": [
    "# Assembly algorithms\n",
    "\n",
    "There are several approaches (algorithms) that can be used to generate a set of contiguous sequences (contigs) from a set of DNA fragments (reads). Two of the main approaches are:\n",
    "\n",
    "* **Overlap Layout Consensus (OLC):** This approach looks at all pairs x,y of all reads and determines if there is a sufficient overlap of the two reads. If there is, then it bundles the stretches of overlap graphs into contigs. Examples of assembly software that use this approach are Falcon (PacBio), Canu(Pacbio, ONT), mnimap/miniasm.\n",
    "\n",
    "* **de Brujin graph (DBG):** This approach builds a graph of all subsequences of lenght k (k-mers). Examples of assembly software that use this approach are velvet, ABySS, SPAdes, wtdbg2."
   ]
  },
  {
   "cell_type": "markdown",
   "metadata": {},
   "source": [
    "![Assembly algorithms](images/assembly_algorithms.png \"Assembly algorithms\")"
   ]
  },
  {
   "cell_type": "markdown",
   "metadata": {},
   "source": [
    "## Exercise\n",
    "Now we are going to build a de Brujin graph by hand from a set of short reads! Using the 6bp reads listed below, manually create the de Brujin graph and find the contig(s)."
   ]
  },
  {
   "cell_type": "markdown",
   "metadata": {},
   "source": [
    "![Short reads](images/debruijn1.png \"Short reads\")"
   ]
  },
  {
   "cell_type": "markdown",
   "metadata": {},
   "source": [
    "**Solution**\n",
    "\n",
    "**Step 1:** Using a k-mer value of k=5, list all the k-mers of length 5 from the reads above. We have completed this step for you as shown below: "
   ]
  },
  {
   "cell_type": "markdown",
   "metadata": {},
   "source": [
    "![K-mers](images/debruijn2.png \"K-mers of length 5\")"
   ]
  },
  {
   "cell_type": "markdown",
   "metadata": {},
   "source": [
    "**Step 2:** Finish the graph by joining k-mers that overlap by 4 bases.\n",
    "\n",
    "**Questions**\n",
    "\n",
    "1. What is the contig sequence?\n",
    "\n",
    "2. What was difficult here?"
   ]
  },
  {
   "cell_type": "markdown",
   "metadata": {},
   "source": [
    "Now move on to the next section: [Illumina genome assembly](illumina_assembly.ipynb)"
   ]
  }
 ],
 "metadata": {
  "kernelspec": {
   "display_name": "Bash",
   "language": "bash",
   "name": "bash"
  },
  "language_info": {
   "codemirror_mode": "shell",
   "file_extension": ".sh",
   "mimetype": "text/x-sh",
   "name": "bash"
  }
 },
 "nbformat": 4,
 "nbformat_minor": 2
}
