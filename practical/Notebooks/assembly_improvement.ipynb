{
 "cells": [
  {
   "cell_type": "markdown",
   "metadata": {},
   "source": [
    "# PacBio Assembly\n",
    "\n",
    "First, check you are in the correct directory."
   ]
  },
  {
   "cell_type": "code",
   "execution_count": null,
   "metadata": {},
   "outputs": [],
   "source": [
    "pwd"
   ]
  },
  {
   "cell_type": "markdown",
   "metadata": {},
   "source": [
    "It should display something like:\n",
    "\n",
    "`/home/manager/course_data/assembly/data`"
   ]
  },
  {
   "cell_type": "markdown",
   "metadata": {},
   "source": [
    "Now we are going to start the PacBio assembly using the `canu` program. It first corrects the reads and then uses the Celera assembler to merge the long reads into contigs. To see the contents of the directory, type"
   ]
  },
  {
   "cell_type": "code",
   "execution_count": null,
   "metadata": {},
   "outputs": [],
   "source": [
    "ls"
   ]
  },
  {
   "cell_type": "markdown",
   "metadata": {},
   "source": [
    "The pre-filtered PacBio reads are called PBReads.fastq.gz - have a look at the contents of this file. "
   ]
  },
  {
   "cell_type": "code",
   "execution_count": null,
   "metadata": {},
   "outputs": [],
   "source": [
    "zless -S PBReads.fastq.gz"
   ]
  },
  {
   "cell_type": "markdown",
   "metadata": {},
   "source": [
    "What do you notice compared to the Illumina fastq files you have seen earlier in the week?\n",
    "\n",
    "Now we will start the assembly with canu [https://canu.readthedocs.io/](https://canu.readthedocs.io/). **NOTE:** This will take some time, so we will start it running now in the background and hopefully it will complete while we work on the other exercises."
   ]
  },
  {
   "cell_type": "code",
   "execution_count": null,
   "metadata": {},
   "outputs": [],
   "source": [
    "canu -p PB -d canu-assembly -s file.specs -pacbio-raw PBReads.fastq.gz &> canu_log.txt &"
   ]
  },
  {
   "cell_type": "markdown",
   "metadata": {},
   "source": [
    "The `-p` option sets the prefix of output files to PB, while the `-d` option sets the output directory to `canu-assembly/`. The `&` at the end will set this command running in the background while you work through the next sections of this practical.\n",
    "\n",
    "Before we move on, let’s just make sure the program is indeed running. Using the `top` or better `htop` command will show you all processes running on your machine (type `q` to exit `top`). You should hopefully see processes associated with canu running (maybe something called meryl). We can also check the canu_log.txt file where the canu logs will be written. If we see error messages in there, then something has gone wrong."
   ]
  },
  {
   "cell_type": "code",
   "execution_count": null,
   "metadata": {},
   "outputs": [],
   "source": [
    "htop"
   ]
  },
  {
   "cell_type": "code",
   "execution_count": null,
   "metadata": {},
   "outputs": [],
   "source": [
    "less canu_log.txt"
   ]
  },
  {
   "cell_type": "markdown",
   "metadata": {},
   "source": [
    "while the can assembly is running, move on to the next section: [Assembly algorithms](assembly_algorithms.ipynb)"
   ]
  }
 ],
 "metadata": {
  "kernelspec": {
   "display_name": "Bash",
   "language": "bash",
   "name": "bash"
  },
  "language_info": {
   "codemirror_mode": "shell",
   "file_extension": ".sh",
   "mimetype": "text/x-sh",
   "name": "bash"
  }
 },
 "nbformat": 4,
 "nbformat_minor": 2
}
