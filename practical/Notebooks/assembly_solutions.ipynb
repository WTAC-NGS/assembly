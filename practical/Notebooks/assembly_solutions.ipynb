{
 "cells": [
  {
   "cell_type": "markdown",
   "metadata": {},
   "source": [
    "# Genome Assembly\n",
    "\n",
    "There are no questions in this section."
   ]
  },
  {
   "cell_type": "markdown",
   "metadata": {},
   "source": [
    "# PacBio Genome Assembly\n",
    "\n",
    "There are no questions in this section."
   ]
  },
  {
   "cell_type": "markdown",
   "metadata": {},
   "source": [
    "# Assembly algorithms\n",
    "\n",
    "The completed graph should look like:"
   ]
  },
  {
   "cell_type": "markdown",
   "metadata": {},
   "source": [
    "![De Bruijn Solution](images/debruijn2_solutions.png \"De Bruijn Solution\")"
   ]
  },
  {
   "cell_type": "markdown",
   "metadata": {},
   "source": [
    "1. One possible solution is: GGTGAGTGATTGATCGATCAATCAGTCAGCCAGCGAGCGAGCGAGCGAGCGAGCTAGCTGGCTGGCTGGTTGGTG\n",
    "2. It is a circular sequence, so unable to determine the start point."
   ]
  },
  {
   "cell_type": "markdown",
   "metadata": {},
   "source": [
    "# Illumina Genome Assembly\n",
    "\n",
    "The results for each assembly should look something like:"
   ]
  },
  {
   "cell_type": "markdown",
   "metadata": {},
   "source": [
    "![Velvet assembly stats](images/velvet-scaffold-stats.png \"Velvet assembly stats\")"
   ]
  },
  {
   "cell_type": "markdown",
   "metadata": {},
   "source": [
    "![Velvet assembly stats](images/velvet_stats_solutions.png \"Velvet assembly stats\")"
   ]
  },
  {
   "cell_type": "markdown",
   "metadata": {},
   "source": [
    "The best assembly is produced using a kmer of 49.\n",
    "\n",
    "The statistics for the contigs versus the scaffolds should look something like:"
   ]
  },
  {
   "cell_type": "markdown",
   "metadata": {},
   "source": [
    "![N50 stats](images/n50-solutions.png \"N50 stats\")"
   ]
  },
  {
   "cell_type": "markdown",
   "metadata": {},
   "source": [
    "This is based on running assembly-stats for the velvet contigs:"
   ]
  },
  {
   "cell_type": "markdown",
   "metadata": {},
   "source": [
    "![Velvet contig stats](images/velvet-contig-stats.png \"Velvet contig stats\")"
   ]
  },
  {
   "cell_type": "markdown",
   "metadata": {},
   "source": [
    "# Assembly estimation\n",
    "\n",
    "The output should look like:"
   ]
  },
  {
   "cell_type": "markdown",
   "metadata": {},
   "source": [
    "![Contents of IT.jf21/summary.txt](images/genomescope-summary.png \"Contents of IT.jf21/summary.txt\")"
   ]
  },
  {
   "cell_type": "markdown",
   "metadata": {},
   "source": [
    "![Contents of IT.jf21/IT.jf21.plot.png](images/IT.jf21.plot.png \"Contents of IT.jf21/IT.jf21.plot.png\")"
   ]
  },
  {
   "cell_type": "markdown",
   "metadata": {},
   "source": [
    "1. 0.451%\n",
    "2. 1.46 MBp\n",
    "3. Yes. The size of chromosome 5 of P. falciparum IT is ~1.435MBp."
   ]
  },
  {
   "cell_type": "markdown",
   "metadata": {},
   "source": [
    "# Pacbio Genome Assembly contd.\n",
    "\n",
    "## Generating pacbio assemblies\n",
    "\n",
    "The assembly stats for the canu pacbio assembly look like:"
   ]
  },
  {
   "cell_type": "markdown",
   "metadata": {},
   "source": [
    "![canu assembly stats](images/canu-stats.png \"canu assembly stats\")"
   ]
  },
  {
   "cell_type": "markdown",
   "metadata": {},
   "source": [
    "The assembly stats for the wtbg2 pacbio assembly look like:"
   ]
  },
  {
   "cell_type": "markdown",
   "metadata": {},
   "source": [
    "![wtdbg3 assembly stats](images/wtdbg-stats.png \"wtdbg2 assembly stats\")"
   ]
  },
  {
   "cell_type": "markdown",
   "metadata": {},
   "source": [
    "## Comparing pacbio assemblies\n",
    "\n",
    "Both assemblies are similar in terms of the common statistics (sum, N50, largest contig) with the main difference being canu assembled the sequence into one piece and wtdbg into two pieces. But let us investigate further.\n",
    "\n",
    "The results from the variant analysis look like this, as you can see the wtdbg2 assembly has a higher number of variants."
   ]
  },
  {
   "cell_type": "markdown",
   "metadata": {},
   "source": [
    "![Canu variants](images/canu-variants.png \"Canu variants\")"
   ]
  },
  {
   "cell_type": "markdown",
   "metadata": {},
   "source": [
    "![wtdbg variants](images/wtdbg-variants.png \"wtdbg variants\")"
   ]
  },
  {
   "cell_type": "markdown",
   "metadata": {},
   "source": [
    "## Polishing pacbio assembly"
   ]
  },
  {
   "cell_type": "markdown",
   "metadata": {},
   "source": [
    "To align the reads and call variants against the polished assemblies the commands look similar to: "
   ]
  },
  {
   "cell_type": "markdown",
   "metadata": {},
   "source": [
    "![Commands](images/commands.png \"Commands to align and call variants on polished assemblies\")"
   ]
  },
  {
   "cell_type": "markdown",
   "metadata": {},
   "source": [
    "The results from the variant analysis on the polished assemblies look like this:"
   ]
  },
  {
   "cell_type": "markdown",
   "metadata": {},
   "source": [
    "![Polished Canu variants](images/polished-canu-variants.png \"Polished Canu variants\")"
   ]
  },
  {
   "cell_type": "markdown",
   "metadata": {},
   "source": [
    "![Polished wtdbg variants](images/polished-wtdbg-variants.png \"Polished wtdbg variants\")"
   ]
  },
  {
   "cell_type": "markdown",
   "metadata": {},
   "source": [
    "As you can see you get less variants called for the polished assemblies, this is because the errors in the assembly have been corrected."
   ]
  }
 ],
 "metadata": {
  "kernelspec": {
   "display_name": "Bash",
   "language": "bash",
   "name": "bash"
  },
  "language_info": {
   "codemirror_mode": "shell",
   "file_extension": ".sh",
   "mimetype": "text/x-sh",
   "name": "bash"
  }
 },
 "nbformat": 4,
 "nbformat_minor": 2
}
