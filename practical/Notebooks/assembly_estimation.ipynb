{
 "cells": [
  {
   "cell_type": "markdown",
   "metadata": {},
   "source": [
    "# Assembly estimation\n",
    "\n",
    "Fortunately with this dataset, we have a known reference genome and therefore some expectations about the size and composition of the Plasmodium falciparum genome. \n",
    "\n",
    "But what if we are working with a new genome, one which has not been sequenced before? One approach is to look at k-mer distributions from the reads. This can be done using two pieces of software, `jellyfish` [(https://github.com/gmarcais/Jellyfish)](https://github.com/gmarcais/Jellyfish) and `Genomesope` [(http://qb.cshl.edu/genomescope/)](http://qb.cshl.edu/genomescope/). `Jellyfish` is used to determine the distribution of k-mers in the dataset and then `Genomescope` is used to model the single copy k-mers as heterozygotes, while double copy k-mers will be the homozygous portions of the genome. It will also estimate the haploid genome size.\n",
    "\n",
    "Let’s check with our Plasmodium falciparum Illumina data that the k-mer distribution gives us what we expect. To get a distribution of 21-mers:"
   ]
  },
  {
   "cell_type": "code",
   "execution_count": null,
   "metadata": {},
   "outputs": [],
   "source": [
    "jellyfish count -C -m 21 -s 1G -t 2 -o IT.jf <(cat IT.Chr5_1.fastq IT.Chr5_2.fastq)"
   ]
  },
  {
   "cell_type": "markdown",
   "metadata": {},
   "source": [
    "This command will count canonical (`-C`) 21-mers (`-m 21`), using a hash with 1G elements (`-s 1G`) and 2 threads (`-t 2`). The output is written to `IT.jf`."
   ]
  },
  {
   "cell_type": "markdown",
   "metadata": {},
   "source": [
    "To compute the histogram of the k-mer occurences, use"
   ]
  },
  {
   "cell_type": "code",
   "execution_count": null,
   "metadata": {},
   "outputs": [],
   "source": [
    "jellyfish histo IT.jf > IT.histo"
   ]
  },
  {
   "cell_type": "markdown",
   "metadata": {},
   "source": [
    "Look at the output:"
   ]
  },
  {
   "cell_type": "code",
   "execution_count": null,
   "metadata": {},
   "outputs": [],
   "source": [
    "less IT.histo"
   ]
  },
  {
   "cell_type": "markdown",
   "metadata": {},
   "source": [
    "Now analyse the output with `genomescope`:"
   ]
  },
  {
   "cell_type": "code",
   "execution_count": null,
   "metadata": {},
   "outputs": [],
   "source": [
    "Rscript genomescope.R IT.histo 21 76 IT.jf21"
   ]
  },
  {
   "cell_type": "markdown",
   "metadata": {},
   "source": [
    "Where 21 is the k-mer size, 76 is the read length of the input Illumina data and IT.jf21 is the directory to write the output to. To look at the output use:"
   ]
  },
  {
   "cell_type": "code",
   "execution_count": null,
   "metadata": {},
   "outputs": [],
   "source": [
    "less IT.jf21/summary.txt"
   ]
  },
  {
   "cell_type": "code",
   "execution_count": null,
   "metadata": {},
   "outputs": [],
   "source": [
    "firefox IT.jf21/plot.png &"
   ]
  },
  {
   "cell_type": "markdown",
   "metadata": {},
   "source": [
    "You should see an image similar to the ones shown below. Notice the bump to right of the main peak. These are the repeated sequences."
   ]
  },
  {
   "cell_type": "markdown",
   "metadata": {},
   "source": [
    "## Exercises\n",
    "\n",
    "1. What is the predicted heterozygosity? \n",
    "2. What is the predicted genome size? \n",
    "3. Does this seem reasonable?"
   ]
  },
  {
   "cell_type": "markdown",
   "metadata": {},
   "source": [
    "We have used `jellyfish` to pre-generate a set of k-mer histograms for a handful of other species. These histo files can be found in the data directory."
   ]
  },
  {
   "cell_type": "code",
   "execution_count": null,
   "metadata": {},
   "outputs": [],
   "source": [
    "ls *.histo"
   ]
  },
  {
   "cell_type": "markdown",
   "metadata": {},
   "source": [
    "Try running genomscope on these. The read length for all of the datasets is 150bp.\n",
    "\n",
    "**fAnaTes1.jf21.histo:** What is the bulge to the left of the main peak here?"
   ]
  },
  {
   "cell_type": "code",
   "execution_count": null,
   "metadata": {},
   "outputs": [],
   "source": [
    "Rscript genomescope.R fAnaTes1.jf21.histo 21 150 fAnaTes1.jf21"
   ]
  },
  {
   "cell_type": "markdown",
   "metadata": {},
   "source": [
    "**fDreSAT1.jf21.histo:** What is the striking feature of this genome?\n",
    "\n",
    "**fMasArm1.jf21.histo:** You should see a nice tight diploid peak for this sample. It has very low heterozygosity - similar to human data.\n",
    "\n",
    "**fSalTru1.jf21.histo:** This genome was actually haploid. How do we interpret the features in the genomescope profile?"
   ]
  },
  {
   "cell_type": "markdown",
   "metadata": {},
   "source": [
    "![Genomescope examples](images/gscope_examples.png \"Genomescope examples\")"
   ]
  },
  {
   "cell_type": "markdown",
   "metadata": {},
   "source": [
    "Now let us go back to our PacBio assembly: [PacBio assembly](pacbio_assembly_again.ipynb)"
   ]
  }
 ],
 "metadata": {
  "kernelspec": {
   "display_name": "Bash",
   "language": "bash",
   "name": "bash"
  },
  "language_info": {
   "codemirror_mode": "shell",
   "file_extension": ".sh",
   "mimetype": "text/x-sh",
   "name": "bash"
  }
 },
 "nbformat": 4,
 "nbformat_minor": 2
}
